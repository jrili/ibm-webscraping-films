{
 "cells": [
  {
   "cell_type": "markdown",
   "id": "70c22fb5",
   "metadata": {},
   "source": [
    "# Web Scraping Project: Most Highly-Ranked Films"
   ]
  },
  {
   "cell_type": "markdown",
   "id": "032b7965-7f46-4a21-ae0b-350909269934",
   "metadata": {},
   "source": [
    "_Instructions and dataset taken from IBM's [Python Project for Data Engineering](https://www.coursera.org/learn/python-project-for-data-engineering) from Coursera_"
   ]
  },
  {
   "cell_type": "markdown",
   "id": "15cef719-c4c0-41da-9a8a-3781b6c96c1b",
   "metadata": {},
   "source": [
    "# Objectives\n",
    "- Use the `requests` and `BeautifulSoup` libraries to extract the contents of a web page\n",
    "- Analyze the `HTML` code of a webpage to find the relevant information\n",
    "- Extract the relevant information and save it in the required form"
   ]
  },
  {
   "cell_type": "markdown",
   "id": "f552a676",
   "metadata": {},
   "source": [
    "# Scenario\n",
    "Consider that you have been hired by a Multiplex management organization to extract the information of the top 50 movies with the best average rating from the web link shared above.\n",
    "\n",
    "- The information required is Average Rank, Film, and Year\n",
    "- Save it to a CSV file\n",
    "- Load the information to a database under the table with name `Top_50`."
   ]
  },
  {
   "cell_type": "markdown",
   "id": "956b4eb8-a8bb-47db-b99f-ab5812d563a8",
   "metadata": {},
   "source": [
    "# Prerequisite Steps\n",
    "## 1. Install required libraries\n",
    "\n",
    "```bash\n",
    "python -m pip install -r requirements.txt\n",
    "```"
   ]
  },
  {
   "cell_type": "markdown",
   "id": "03e4f2de",
   "metadata": {},
   "source": [
    "# Imports and Definitions"
   ]
  },
  {
   "cell_type": "code",
   "execution_count": 62,
   "id": "44d3a37b-6436-4068-945d-d6ac24d7265b",
   "metadata": {},
   "outputs": [],
   "source": [
    "# for getting the HTML code of the target page\n",
    "import requests \n",
    "\n",
    "# for exporting data into a database file\n",
    "import sqlite3\n",
    "\n",
    "# for data frame compilation and utilities\n",
    "import pandas as pd \n",
    "\n",
    "# for parsing required data from the target page's HTML code\n",
    "from bs4 import BeautifulSoup\n",
    "\n",
    "# for deleting the output files, if existing, before the whole scraping process is run\n",
    "import os\n"
   ]
  },
  {
   "cell_type": "code",
   "execution_count": 63,
   "id": "9bfca238",
   "metadata": {},
   "outputs": [],
   "source": [
    "# URL of webpage to scrape\n",
    "TARGET_URL = \"https://web.archive.org/web/20230902185655/https://en.everybodywiki.com/100_Most_Highly-Ranked_Films\"\n",
    "\n",
    "# Filename of output CSV file\n",
    "TARGET_OUTPUT_CSV_FILE = \"top_50_films.csv\"\n",
    "\n",
    "# Filename of output Database file\n",
    "TARGET_DB_NAME = \"Movies.db\"\n",
    "\n",
    "# Table name to use when exporting to Database\n",
    "TARGET_DB_TABLE_NAME = \"Top_50\"\n",
    "\n",
    "# Number of Top 50 Highly-Rated films to scrape\n",
    "NUM_ENTRIES_TO_SCRAPE = 50"
   ]
  },
  {
   "cell_type": "markdown",
   "id": "466d3799",
   "metadata": {},
   "source": [
    "Delete target output files, if existing, to start each run with a clean slate"
   ]
  },
  {
   "cell_type": "code",
   "execution_count": 64,
   "id": "69fc6aa4",
   "metadata": {},
   "outputs": [],
   "source": [
    "if os.path.exists(TARGET_OUTPUT_CSV_FILE):\n",
    "    os.remove(TARGET_OUTPUT_CSV_FILE)\n",
    "\n",
    "# When re-running, sometimes the database resource is still held by Jupyter Notebook.\n",
    "# If that should happen, just skip the deletion\n",
    "try:\n",
    "    if os.path.exists(TARGET_DB_NAME):\n",
    "        os.remove(TARGET_DB_NAME)\n",
    "except:\n",
    "    pass"
   ]
  },
  {
   "cell_type": "markdown",
   "id": "d4cdf552-de48-416d-98cc-8c0936f592b9",
   "metadata": {},
   "source": [
    "# Project Task 1: Load the webpage for scraping\n",
    "Develop a script that loads the entire web page and parses the resulting text in HTML format. \n"
   ]
  },
  {
   "cell_type": "code",
   "execution_count": 65,
   "id": "80715a5a",
   "metadata": {},
   "outputs": [],
   "source": [
    "# Get the HTML code for the page\n",
    "html_page = requests.get(TARGET_URL).text\n",
    "\n",
    "# Parse the HTML code, get all the needed rows (with tag 'tr') from the first table\n",
    "data = BeautifulSoup(html_page, \"html.parser\")"
   ]
  },
  {
   "cell_type": "markdown",
   "id": "bab2ea49-ec5b-4561-a4c7-709643dd0668",
   "metadata": {},
   "source": [
    "# Project Task 2: Analyze the HTML code for relevant information\n",
    "\n",
    "1. Open the web page in a browser then locate the required table.\n",
    "2. Right-click on the table and click `Inspect` or something similar, depending on what browser you are using.\n",
    "![alt text](resources/00_inspect_table.png)\n",
    "3. This opens the HTML code for the page and takes you directly to the point where the definition of the table begins. Take note of this structure in preparation for webscraping, i.e. what tags to look for for each row.\n",
    "![alt text](resources/01_html_table.png)"
   ]
  },
  {
   "cell_type": "markdown",
   "id": "d8fef40a",
   "metadata": {},
   "source": [
    "As we can see from the HTML code, the table we are looking for has a `<tbody>` tag inside a `<table>` tag. Using the `find_all()` method of a `bs4` data object, we can get an iterable `ResultSet` for sections containing the tag `table`."
   ]
  },
  {
   "cell_type": "code",
   "execution_count": 66,
   "id": "c84e4dd1",
   "metadata": {},
   "outputs": [
    {
     "name": "stdout",
     "output_type": "stream",
     "text": [
      "Data type of tables: <class 'bs4.element.ResultSet'>\n",
      "Table 0 Caption : [<caption>Highest Ranked Films (According to the Top 100 Lists of 5 Sources)\n",
      "</caption>]\n",
      "Table 1 Caption : [<caption>Decades with the Most Highly Ranked Films\n",
      "</caption>]\n",
      "Table 2 Caption : [<caption>Genres with the Most Highly Ranked Films\n",
      "</caption>]\n"
     ]
    }
   ],
   "source": [
    "# To figure out the index of the table we need,\n",
    "# print the 'caption' tag of all tables in the page\n",
    "tables = data.find_all('table')\n",
    "print(f\"Data type of tables: {type(tables)}\")\n",
    "for i, table in enumerate(tables):\n",
    "    print(f\"Table {i} Caption : {table.find_all('caption')}\")"
   ]
  },
  {
   "cell_type": "markdown",
   "id": "c7672667",
   "metadata": {},
   "source": [
    "From this, we find that the table with caption **\"Highest Ranked Films (According to the Top 100 Lists of 5 Sources)\"** that we need is the first table (index 0).\n",
    "\n",
    "Let's store that to a variable `target_table_data`."
   ]
  },
  {
   "cell_type": "code",
   "execution_count": 67,
   "id": "6d2d3203",
   "metadata": {},
   "outputs": [],
   "source": [
    "# Get the contents of the first table\n",
    "target_table_data = tables[0]"
   ]
  },
  {
   "cell_type": "markdown",
   "id": "8ef0b403",
   "metadata": {},
   "source": [
    "Next, we see from the browser's 'Inspect' pane that inside the `target_table_data` are the rows denoted by the `<tr>` tag.\n",
    "\n",
    "Let's take a peek at the first three(3) rows:"
   ]
  },
  {
   "cell_type": "code",
   "execution_count": 68,
   "id": "0a0565f3",
   "metadata": {},
   "outputs": [
    {
     "name": "stdout",
     "output_type": "stream",
     "text": [
      "Row 0: <tr>\n",
      "<th>Average Rank</th>\n",
      "<th>Film</th>\n",
      "<th>Year</th>\n",
      "<th>Rotten Tomatoes' Top 100<sup class=\"reference\" id=\"cite_ref-1\"><a href=\"#cite_note-1\">[1]</a></sup></th>\n",
      "<th>IMDb's Top 250 <sup class=\"reference\" id=\"cite_ref-2\"><a href=\"#cite_note-2\">[2]</a></sup></th>\n",
      "<th>Empire's Top 100 <sup class=\"reference\" id=\"cite_ref-3\"><a href=\"#cite_note-3\">[3]</a></sup></th>\n",
      "<th>AFI's Top 100 <sup class=\"reference\" id=\"cite_ref-4\"><a href=\"#cite_note-4\">[4]</a></sup></th>\n",
      "<th>BFI's Top 100 <sup class=\"reference\" id=\"cite_ref-5\"><a href=\"#cite_note-5\">[5]</a></sup>\n",
      "</th></tr>\n",
      "\n",
      "Row 1: <tr>\n",
      "<td>1</td>\n",
      "<td>The Godfather</td>\n",
      "<td>1972</td>\n",
      "<td>17</td>\n",
      "<td>2</td>\n",
      "<td>3</td>\n",
      "<td>2</td>\n",
      "<td>21\n",
      "</td></tr>\n",
      "\n",
      "Row 2: <tr>\n",
      "<td>2</td>\n",
      "<td>Citizen Kane</td>\n",
      "<td>1941</td>\n",
      "<td>2</td>\n",
      "<td>93</td>\n",
      "<td>40</td>\n",
      "<td>1</td>\n",
      "<td>2\n",
      "</td></tr>\n",
      "\n"
     ]
    }
   ],
   "source": [
    "target_rows_data = target_table_data.find_all('tr')\n",
    "for i in range(0,3):\n",
    "    print(f\"Row {i}: {target_rows_data[i]}\\n\")"
   ]
  },
  {
   "cell_type": "markdown",
   "id": "3c43376a",
   "metadata": {},
   "source": [
    "Information gleaned from above:\n",
    "- The first row contains the column headers, i.e. not all rows contain the data we need\n",
    "- Each cell containing the data we need is denoted by the `<td>` tag\n",
    "  - Average Rank: 1st cell in row (index 0)\n",
    "  - Film Title: 2nd cell in row (index 1)\n",
    "  - Year: 3rd cell in row (index 2)"
   ]
  },
  {
   "cell_type": "markdown",
   "id": "c83317db",
   "metadata": {},
   "source": [
    "# Project Task 3: Scrape the required information\n",
    "We can now iterate through the rows, taking care to skip rows that do not contain the `<td>` tag, to get the required data.\n",
    "\n",
    "Note the use of `bs4`'s `contents` field to access the contents of the cell, i.e. excluding the tags."
   ]
  },
  {
   "cell_type": "code",
   "execution_count": 69,
   "id": "feade9ae",
   "metadata": {},
   "outputs": [
    {
     "name": "stdout",
     "output_type": "stream",
     "text": [
      "Found row #0: {'Average Rank': 1, 'Film': 'The Godfather', 'Year': 1972}\n",
      "Found row #1: {'Average Rank': 2, 'Film': 'Citizen Kane', 'Year': 1941}\n",
      "Found row #2: {'Average Rank': 3, 'Film': 'Casablanca', 'Year': 1942}\n",
      "Found row #3: {'Average Rank': 4, 'Film': 'The Godfather, Part II', 'Year': 1974}\n",
      "Found row #4: {'Average Rank': 5, 'Film': \"Singin' in the Rain\", 'Year': 1952}\n",
      "Found row #5: {'Average Rank': 6, 'Film': 'Psycho', 'Year': 1960}\n",
      "Found row #6: {'Average Rank': 7, 'Film': 'Rear Window', 'Year': 1954}\n",
      "Found row #7: {'Average Rank': 8, 'Film': 'Apocalypse Now', 'Year': 1979}\n",
      "Found row #8: {'Average Rank': 9, 'Film': '2001: A Space Odyssey', 'Year': 1968}\n",
      "Found row #9: {'Average Rank': 10, 'Film': 'Seven Samurai', 'Year': 1954}\n",
      "Found row #10: {'Average Rank': 11, 'Film': 'Vertigo', 'Year': 1958}\n",
      "Found row #11: {'Average Rank': 12, 'Film': 'Sunset Blvd', 'Year': 1950}\n",
      "Found row #12: {'Average Rank': 13, 'Film': 'Modern Times', 'Year': 1936}\n",
      "Found row #13: {'Average Rank': 14, 'Film': 'Lawrence of Arabia', 'Year': 1962}\n",
      "Found row #14: {'Average Rank': 15, 'Film': 'North by Northwest', 'Year': 1959}\n",
      "Found row #15: {'Average Rank': 16, 'Film': 'Star Wars', 'Year': 1977}\n",
      "Found row #16: {'Average Rank': 17, 'Film': 'Parasite', 'Year': 2019}\n",
      "Found row #17: {'Average Rank': 18, 'Film': \"Schindler's List\", 'Year': 1993}\n",
      "Found row #18: {'Average Rank': 19, 'Film': 'Lord of the Rings: The Fellowship of the Ring', 'Year': 2001}\n",
      "Found row #19: {'Average Rank': 20, 'Film': 'Shawshank Redemption', 'Year': 1994}\n",
      "Found row #20: {'Average Rank': 21, 'Film': \"It's a Wonderful Life\", 'Year': 1946}\n",
      "Found row #21: {'Average Rank': 22, 'Film': 'Pulp Fiction', 'Year': 1994}\n",
      "Found row #22: {'Average Rank': 23, 'Film': 'Avengers: Endgame', 'Year': 2019}\n",
      "Found row #23: {'Average Rank': 24, 'Film': 'City Lights', 'Year': 1931}\n",
      "Found row #24: {'Average Rank': 25, 'Film': \"One Flew Over the Cuckoo's Nest\", 'Year': 1975}\n",
      "Found row #25: {'Average Rank': 26, 'Film': 'Goodfellas', 'Year': 1990}\n",
      "Found row #26: {'Average Rank': 27, 'Film': 'Raiders of the Lost Ark', 'Year': 1981}\n",
      "Found row #27: {'Average Rank': 28, 'Film': '12 Angry Men', 'Year': 1957}\n",
      "Found row #28: {'Average Rank': 29, 'Film': 'The Silence of the Lambs', 'Year': 1991}\n",
      "Found row #29: {'Average Rank': 30, 'Film': 'Taxi Driver', 'Year': 1976}\n",
      "Found row #30: {'Average Rank': 31, 'Film': 'Saving Private Ryan', 'Year': 1998}\n",
      "Found row #31: {'Average Rank': 32, 'Film': 'E.T. the Extra Terrestrial', 'Year': 1982}\n",
      "Found row #32: {'Average Rank': 33, 'Film': 'Alien', 'Year': 1979}\n",
      "Found row #33: {'Average Rank': 34, 'Film': 'Spider-Man: Into the Spider-verse', 'Year': 2018}\n",
      "Found row #34: {'Average Rank': 35, 'Film': 'Blade Runner', 'Year': 1982}\n",
      "Found row #35: {'Average Rank': 36, 'Film': 'Double Indemnity', 'Year': 1944}\n",
      "Found row #36: {'Average Rank': 37, 'Film': 'The Dark Knight', 'Year': 2008}\n",
      "Found row #37: {'Average Rank': 38, 'Film': '<a href=\"/web/20230902185655/https://en.everybodywiki.com/The_Wizard_of_Oz_(1939_film)\" title=\"The Wizard of Oz (1939 film)\">The Wizard of Oz</a>', 'Year': 1939}\n",
      "Found row #38: {'Average Rank': 39, 'Film': 'Star Wars: Episode V- The Empire Strikes Back', 'Year': 1980}\n",
      "Found row #39: {'Average Rank': 40, 'Film': 'The Searchers', 'Year': 1956}\n",
      "Found row #40: {'Average Rank': 41, 'Film': 'Mad Max: Fury Road', 'Year': 2015}\n",
      "Found row #41: {'Average Rank': 42, 'Film': 'Inception', 'Year': 2010}\n",
      "Found row #42: {'Average Rank': 43, 'Film': 'Lord of the Rings: Return of the King', 'Year': 2003}\n",
      "Found row #43: {'Average Rank': 44, 'Film': 'The Matrix', 'Year': 1999}\n",
      "Found row #44: {'Average Rank': 45, 'Film': 'Fight Club', 'Year': 1999}\n",
      "Found row #45: {'Average Rank': 46, 'Film': 'Back to the Future', 'Year': 1985}\n",
      "Found row #46: {'Average Rank': 47, 'Film': 'It Happened One Night', 'Year': 1934}\n",
      "Found row #47: {'Average Rank': 48, 'Film': 'The Good, the Bad, and the Ugly', 'Year': 1966}\n",
      "Found row #48: {'Average Rank': 49, 'Film': 'Lord of the Rings: The Two Towers', 'Year': 2002}\n",
      "Found row #49: {'Average Rank': 50, 'Film': 'All About Eve', 'Year': 1950}\n"
     ]
    }
   ],
   "source": [
    "# Iterate through the rows to find the data from each column (with tag 'td')\n",
    "count = 0\n",
    "output_rows_list = []\n",
    "for row in target_rows_data:\n",
    "    if count < NUM_ENTRIES_TO_SCRAPE:\n",
    "        cells = row.find_all('td')\n",
    "        if len(cells) > 0:\n",
    "            data_dict = {\"Average Rank\": int(cells[0].contents[0]),\n",
    "                        \"Film\": str(cells[1].contents[0]),\n",
    "                        \"Year\": int(cells[2].contents[0])}\n",
    "            print(f\"Found row #{count}: {data_dict}\")\n",
    "            output_rows_list.append(data_dict)\n",
    "            count = count + 1\n",
    "    else:\n",
    "        break"
   ]
  },
  {
   "cell_type": "markdown",
   "id": "cf4984ad",
   "metadata": {},
   "source": [
    "Notice that in the row ranked at 38, at index 37, the film title contains a hyperlink. \n",
    "\n",
    "To handle this and other cases like it, we need to add a some special handling:"
   ]
  },
  {
   "cell_type": "code",
   "execution_count": 70,
   "id": "c0454919",
   "metadata": {},
   "outputs": [
    {
     "name": "stdout",
     "output_type": "stream",
     "text": [
      "Found row #0: {'Average Rank': 1, 'Film': 'The Godfather', 'Year': 1972}\n",
      "Found row #1: {'Average Rank': 2, 'Film': 'Citizen Kane', 'Year': 1941}\n",
      "Found row #2: {'Average Rank': 3, 'Film': 'Casablanca', 'Year': 1942}\n",
      "Found row #3: {'Average Rank': 4, 'Film': 'The Godfather, Part II', 'Year': 1974}\n",
      "Found row #4: {'Average Rank': 5, 'Film': \"Singin' in the Rain\", 'Year': 1952}\n",
      "Found row #5: {'Average Rank': 6, 'Film': 'Psycho', 'Year': 1960}\n",
      "Found row #6: {'Average Rank': 7, 'Film': 'Rear Window', 'Year': 1954}\n",
      "Found row #7: {'Average Rank': 8, 'Film': 'Apocalypse Now', 'Year': 1979}\n",
      "Found row #8: {'Average Rank': 9, 'Film': '2001: A Space Odyssey', 'Year': 1968}\n",
      "Found row #9: {'Average Rank': 10, 'Film': 'Seven Samurai', 'Year': 1954}\n",
      "Found row #10: {'Average Rank': 11, 'Film': 'Vertigo', 'Year': 1958}\n",
      "Found row #11: {'Average Rank': 12, 'Film': 'Sunset Blvd', 'Year': 1950}\n",
      "Found row #12: {'Average Rank': 13, 'Film': 'Modern Times', 'Year': 1936}\n",
      "Found row #13: {'Average Rank': 14, 'Film': 'Lawrence of Arabia', 'Year': 1962}\n",
      "Found row #14: {'Average Rank': 15, 'Film': 'North by Northwest', 'Year': 1959}\n",
      "Found row #15: {'Average Rank': 16, 'Film': 'Star Wars', 'Year': 1977}\n",
      "Found row #16: {'Average Rank': 17, 'Film': 'Parasite', 'Year': 2019}\n",
      "Found row #17: {'Average Rank': 18, 'Film': \"Schindler's List\", 'Year': 1993}\n",
      "Found row #18: {'Average Rank': 19, 'Film': 'Lord of the Rings: The Fellowship of the Ring', 'Year': 2001}\n",
      "Found row #19: {'Average Rank': 20, 'Film': 'Shawshank Redemption', 'Year': 1994}\n",
      "Found row #20: {'Average Rank': 21, 'Film': \"It's a Wonderful Life\", 'Year': 1946}\n",
      "Found row #21: {'Average Rank': 22, 'Film': 'Pulp Fiction', 'Year': 1994}\n",
      "Found row #22: {'Average Rank': 23, 'Film': 'Avengers: Endgame', 'Year': 2019}\n",
      "Found row #23: {'Average Rank': 24, 'Film': 'City Lights', 'Year': 1931}\n",
      "Found row #24: {'Average Rank': 25, 'Film': \"One Flew Over the Cuckoo's Nest\", 'Year': 1975}\n",
      "Found row #25: {'Average Rank': 26, 'Film': 'Goodfellas', 'Year': 1990}\n",
      "Found row #26: {'Average Rank': 27, 'Film': 'Raiders of the Lost Ark', 'Year': 1981}\n",
      "Found row #27: {'Average Rank': 28, 'Film': '12 Angry Men', 'Year': 1957}\n",
      "Found row #28: {'Average Rank': 29, 'Film': 'The Silence of the Lambs', 'Year': 1991}\n",
      "Found row #29: {'Average Rank': 30, 'Film': 'Taxi Driver', 'Year': 1976}\n",
      "Found row #30: {'Average Rank': 31, 'Film': 'Saving Private Ryan', 'Year': 1998}\n",
      "Found row #31: {'Average Rank': 32, 'Film': 'E.T. the Extra Terrestrial', 'Year': 1982}\n",
      "Found row #32: {'Average Rank': 33, 'Film': 'Alien', 'Year': 1979}\n",
      "Found row #33: {'Average Rank': 34, 'Film': 'Spider-Man: Into the Spider-verse', 'Year': 2018}\n",
      "Found row #34: {'Average Rank': 35, 'Film': 'Blade Runner', 'Year': 1982}\n",
      "Found row #35: {'Average Rank': 36, 'Film': 'Double Indemnity', 'Year': 1944}\n",
      "Found row #36: {'Average Rank': 37, 'Film': 'The Dark Knight', 'Year': 2008}\n",
      "Found row #37: {'Average Rank': 38, 'Film': 'The Wizard of Oz', 'Year': 1939}\n",
      "Found row #38: {'Average Rank': 39, 'Film': 'Star Wars: Episode V- The Empire Strikes Back', 'Year': 1980}\n",
      "Found row #39: {'Average Rank': 40, 'Film': 'The Searchers', 'Year': 1956}\n",
      "Found row #40: {'Average Rank': 41, 'Film': 'Mad Max: Fury Road', 'Year': 2015}\n",
      "Found row #41: {'Average Rank': 42, 'Film': 'Inception', 'Year': 2010}\n",
      "Found row #42: {'Average Rank': 43, 'Film': 'Lord of the Rings: Return of the King', 'Year': 2003}\n",
      "Found row #43: {'Average Rank': 44, 'Film': 'The Matrix', 'Year': 1999}\n",
      "Found row #44: {'Average Rank': 45, 'Film': 'Fight Club', 'Year': 1999}\n",
      "Found row #45: {'Average Rank': 46, 'Film': 'Back to the Future', 'Year': 1985}\n",
      "Found row #46: {'Average Rank': 47, 'Film': 'It Happened One Night', 'Year': 1934}\n",
      "Found row #47: {'Average Rank': 48, 'Film': 'The Good, the Bad, and the Ugly', 'Year': 1966}\n",
      "Found row #48: {'Average Rank': 49, 'Film': 'Lord of the Rings: The Two Towers', 'Year': 2002}\n",
      "Found row #49: {'Average Rank': 50, 'Film': 'All About Eve', 'Year': 1950}\n"
     ]
    }
   ],
   "source": [
    "# Iterate through the rows to find the data from each column (with tag 'td')\n",
    "count = 0\n",
    "output_rows_list = []\n",
    "for row in target_rows_data:\n",
    "    if count < NUM_ENTRIES_TO_SCRAPE:\n",
    "        cells = row.find_all('td')\n",
    "        if len(cells) > 0:\n",
    "\n",
    "            # For titles with hyperlinks, get the contents of the <a> tag\n",
    "            # By default, extract film title directly through .contents\n",
    "            film_title = cells[1].contents[0]\n",
    "            film_title_hyperlink = cells[1].find('a')\n",
    "            if film_title_hyperlink != None:\n",
    "                film_title = film_title_hyperlink.contents[0]\n",
    "\n",
    "            data_dict = {\"Average Rank\": int(cells[0].contents[0]),\n",
    "                        \"Film\": str(film_title),\n",
    "                        \"Year\": int(cells[2].contents[0])}\n",
    "            print(f\"Found row #{count}: {data_dict}\")\n",
    "            output_rows_list.append(data_dict)\n",
    "            count = count + 1\n",
    "    else:\n",
    "        break"
   ]
  },
  {
   "cell_type": "markdown",
   "id": "40373850",
   "metadata": {},
   "source": [
    "Now that we extracted the data required, all that's left to do is to create a Pandas DataFrame out of the list of dicts `output_rows_list`:"
   ]
  },
  {
   "cell_type": "code",
   "execution_count": 71,
   "id": "95fbb410",
   "metadata": {},
   "outputs": [
    {
     "name": "stdout",
     "output_type": "stream",
     "text": [
      "<class 'pandas.core.frame.DataFrame'>\n",
      "RangeIndex: 50 entries, 0 to 49\n",
      "Data columns (total 3 columns):\n",
      " #   Column        Non-Null Count  Dtype \n",
      "---  ------        --------------  ----- \n",
      " 0   Average Rank  50 non-null     int64 \n",
      " 1   Film          50 non-null     object\n",
      " 2   Year          50 non-null     int64 \n",
      "dtypes: int64(2), object(1)\n",
      "memory usage: 1.3+ KB\n",
      "None \n",
      "\n",
      "    Average Rank                                           Film  Year\n",
      "0              1                                  The Godfather  1972\n",
      "1              2                                   Citizen Kane  1941\n",
      "2              3                                     Casablanca  1942\n",
      "3              4                         The Godfather, Part II  1974\n",
      "4              5                            Singin' in the Rain  1952\n",
      "5              6                                         Psycho  1960\n",
      "6              7                                    Rear Window  1954\n",
      "7              8                                 Apocalypse Now  1979\n",
      "8              9                          2001: A Space Odyssey  1968\n",
      "9             10                                  Seven Samurai  1954\n",
      "10            11                                        Vertigo  1958\n",
      "11            12                                    Sunset Blvd  1950\n",
      "12            13                                   Modern Times  1936\n",
      "13            14                             Lawrence of Arabia  1962\n",
      "14            15                             North by Northwest  1959\n",
      "15            16                                      Star Wars  1977\n",
      "16            17                                       Parasite  2019\n",
      "17            18                               Schindler's List  1993\n",
      "18            19  Lord of the Rings: The Fellowship of the Ring  2001\n",
      "19            20                           Shawshank Redemption  1994\n",
      "20            21                          It's a Wonderful Life  1946\n",
      "21            22                                   Pulp Fiction  1994\n",
      "22            23                              Avengers: Endgame  2019\n",
      "23            24                                    City Lights  1931\n",
      "24            25                One Flew Over the Cuckoo's Nest  1975\n",
      "25            26                                     Goodfellas  1990\n",
      "26            27                        Raiders of the Lost Ark  1981\n",
      "27            28                                   12 Angry Men  1957\n",
      "28            29                       The Silence of the Lambs  1991\n",
      "29            30                                    Taxi Driver  1976\n",
      "30            31                            Saving Private Ryan  1998\n",
      "31            32                     E.T. the Extra Terrestrial  1982\n",
      "32            33                                          Alien  1979\n",
      "33            34              Spider-Man: Into the Spider-verse  2018\n",
      "34            35                                   Blade Runner  1982\n",
      "35            36                               Double Indemnity  1944\n",
      "36            37                                The Dark Knight  2008\n",
      "37            38                               The Wizard of Oz  1939\n",
      "38            39  Star Wars: Episode V- The Empire Strikes Back  1980\n",
      "39            40                                  The Searchers  1956\n",
      "40            41                             Mad Max: Fury Road  2015\n",
      "41            42                                      Inception  2010\n",
      "42            43          Lord of the Rings: Return of the King  2003\n",
      "43            44                                     The Matrix  1999\n",
      "44            45                                     Fight Club  1999\n",
      "45            46                             Back to the Future  1985\n",
      "46            47                          It Happened One Night  1934\n",
      "47            48                The Good, the Bad, and the Ugly  1966\n",
      "48            49              Lord of the Rings: The Two Towers  2002\n",
      "49            50                                  All About Eve  1950\n"
     ]
    }
   ],
   "source": [
    "output_df = pd.DataFrame.from_dict(output_rows_list)\n",
    "\n",
    "print(output_df.info(), \"\\n\")\n",
    "print(output_df)"
   ]
  },
  {
   "cell_type": "markdown",
   "id": "5844c3e1",
   "metadata": {},
   "source": [
    "We have now successfully extracted the Average Rank, Title, and Year data of the Top 50 Most Highly-Ranked Films into a Pandas DataFrame, `output_df`."
   ]
  },
  {
   "cell_type": "markdown",
   "id": "85bce98a-9cea-4f53-85df-fd735c28385f",
   "metadata": {},
   "source": [
    "## Storing the data\n",
    "For the last task, we need to load the extracted and transformed data into a CSV file and a Database file."
   ]
  },
  {
   "cell_type": "markdown",
   "id": "54aaa699",
   "metadata": {},
   "source": [
    "## Saving the output to a CSV \n",
    "The loading to CSV file is easily done using Pandas `to_csv()` method.\n",
    "The filename for the output CSV file was previously defined as `TARGET_OUTPUT_FILE`."
   ]
  },
  {
   "cell_type": "code",
   "execution_count": 72,
   "id": "a86e0aae",
   "metadata": {},
   "outputs": [],
   "source": [
    "# Save output to CSV\n",
    "output_df.to_csv(TARGET_OUTPUT_CSV_FILE)"
   ]
  },
  {
   "cell_type": "markdown",
   "id": "41964c5b",
   "metadata": {},
   "source": [
    "To verify, we can check the contents of the output CSV file like below:"
   ]
  },
  {
   "cell_type": "code",
   "execution_count": 73,
   "id": "7e4b20d1",
   "metadata": {},
   "outputs": [
    {
     "name": "stdout",
     "output_type": "stream",
     "text": [
      ",Average Rank,Film,Year\n",
      "0,1,The Godfather,1972\n",
      "1,2,Citizen Kane,1941\n",
      "2,3,Casablanca,1942\n",
      "3,4,\"The Godfather, Part II\",1974\n",
      "4,5,Singin' in the Rain,1952\n",
      "5,6,Psycho,1960\n",
      "6,7,Rear Window,1954\n",
      "7,8,Apocalypse Now,1979\n",
      "8,9,2001: A Space Odyssey,1968\n",
      "9,10,Seven Samurai,1954\n",
      "10,11,Vertigo,1958\n",
      "11,12,Sunset Blvd,1950\n",
      "12,13,Modern Times,1936\n",
      "13,14,Lawrence of Arabia,1962\n",
      "14,15,North by Northwest,1959\n",
      "15,16,Star Wars,1977\n",
      "16,17,Parasite,2019\n",
      "17,18,Schindler's List,1993\n",
      "18,19,Lord of the Rings: The Fellowship of the Ring,2001\n",
      "19,20,Shawshank Redemption,1994\n",
      "20,21,It's a Wonderful Life,1946\n",
      "21,22,Pulp Fiction,1994\n",
      "22,23,Avengers: Endgame,2019\n",
      "23,24,City Lights,1931\n",
      "24,25,One Flew Over the Cuckoo's Nest,1975\n",
      "25,26,Goodfellas,1990\n",
      "26,27,Raiders of the Lost Ark,1981\n",
      "27,28,12 Angry Men,1957\n",
      "28,29,The Silence of the Lambs,1991\n",
      "29,30,Taxi Driver,1976\n",
      "30,31,Saving Private Ryan,1998\n",
      "31,32,E.T. the Extra Terrestrial,1982\n",
      "32,33,Alien,1979\n",
      "33,34,Spider-Man: Into the Spider-verse,2018\n",
      "34,35,Blade Runner,1982\n",
      "35,36,Double Indemnity,1944\n",
      "36,37,The Dark Knight,2008\n",
      "37,38,The Wizard of Oz,1939\n",
      "38,39,Star Wars: Episode V- The Empire Strikes Back,1980\n",
      "39,40,The Searchers,1956\n",
      "40,41,Mad Max: Fury Road,2015\n",
      "41,42,Inception,2010\n",
      "42,43,Lord of the Rings: Return of the King,2003\n",
      "43,44,The Matrix,1999\n",
      "44,45,Fight Club,1999\n",
      "45,46,Back to the Future,1985\n",
      "46,47,It Happened One Night,1934\n",
      "47,48,\"The Good, the Bad, and the Ugly\",1966\n",
      "48,49,Lord of the Rings: The Two Towers,2002\n",
      "49,50,All About Eve,1950\n",
      "\n"
     ]
    }
   ],
   "source": [
    "# Check the output CSV file:\n",
    "with open(TARGET_OUTPUT_CSV_FILE, 'r') as f:\n",
    "    print(f.read())"
   ]
  },
  {
   "cell_type": "markdown",
   "id": "2538f89d",
   "metadata": {},
   "source": [
    "## Storing the output to a CSV\n",
    "Using the built-in `sqlite3` package and Pandas DataFrame `to_sql()` method, we can export our output dataframe into a database file.\n",
    "\n",
    "The filename for the output DB filename was previously defined as `TARGET_DB_NAME`, while the target table name was previously defined as `TARGET_DB_TABLE_NAME`."
   ]
  },
  {
   "cell_type": "code",
   "execution_count": 74,
   "id": "4bdbab2f",
   "metadata": {},
   "outputs": [],
   "source": [
    "# Save output to DB\n",
    "with sqlite3.connect(TARGET_DB_NAME) as conn:\n",
    "    output_df.to_sql(name=TARGET_DB_TABLE_NAME, con=conn, if_exists='replace', index=False)"
   ]
  },
  {
   "cell_type": "markdown",
   "id": "7a44b616",
   "metadata": {},
   "source": [
    "To verify, we can check the contents of the DB using Pandas `read_sql()` method like below:"
   ]
  },
  {
   "cell_type": "code",
   "execution_count": 75,
   "id": "2c0e92ed",
   "metadata": {},
   "outputs": [
    {
     "name": "stdout",
     "output_type": "stream",
     "text": [
      "query_all:\n",
      "     Average Rank                                           Film  Year\n",
      "0              1                                  The Godfather  1972\n",
      "1              2                                   Citizen Kane  1941\n",
      "2              3                                     Casablanca  1942\n",
      "3              4                         The Godfather, Part II  1974\n",
      "4              5                            Singin' in the Rain  1952\n",
      "5              6                                         Psycho  1960\n",
      "6              7                                    Rear Window  1954\n",
      "7              8                                 Apocalypse Now  1979\n",
      "8              9                          2001: A Space Odyssey  1968\n",
      "9             10                                  Seven Samurai  1954\n",
      "10            11                                        Vertigo  1958\n",
      "11            12                                    Sunset Blvd  1950\n",
      "12            13                                   Modern Times  1936\n",
      "13            14                             Lawrence of Arabia  1962\n",
      "14            15                             North by Northwest  1959\n",
      "15            16                                      Star Wars  1977\n",
      "16            17                                       Parasite  2019\n",
      "17            18                               Schindler's List  1993\n",
      "18            19  Lord of the Rings: The Fellowship of the Ring  2001\n",
      "19            20                           Shawshank Redemption  1994\n",
      "20            21                          It's a Wonderful Life  1946\n",
      "21            22                                   Pulp Fiction  1994\n",
      "22            23                              Avengers: Endgame  2019\n",
      "23            24                                    City Lights  1931\n",
      "24            25                One Flew Over the Cuckoo's Nest  1975\n",
      "25            26                                     Goodfellas  1990\n",
      "26            27                        Raiders of the Lost Ark  1981\n",
      "27            28                                   12 Angry Men  1957\n",
      "28            29                       The Silence of the Lambs  1991\n",
      "29            30                                    Taxi Driver  1976\n",
      "30            31                            Saving Private Ryan  1998\n",
      "31            32                     E.T. the Extra Terrestrial  1982\n",
      "32            33                                          Alien  1979\n",
      "33            34              Spider-Man: Into the Spider-verse  2018\n",
      "34            35                                   Blade Runner  1982\n",
      "35            36                               Double Indemnity  1944\n",
      "36            37                                The Dark Knight  2008\n",
      "37            38                               The Wizard of Oz  1939\n",
      "38            39  Star Wars: Episode V- The Empire Strikes Back  1980\n",
      "39            40                                  The Searchers  1956\n",
      "40            41                             Mad Max: Fury Road  2015\n",
      "41            42                                      Inception  2010\n",
      "42            43          Lord of the Rings: Return of the King  2003\n",
      "43            44                                     The Matrix  1999\n",
      "44            45                                     Fight Club  1999\n",
      "45            46                             Back to the Future  1985\n",
      "46            47                          It Happened One Night  1934\n",
      "47            48                The Good, the Bad, and the Ugly  1966\n",
      "48            49              Lord of the Rings: The Two Towers  2002\n",
      "49            50                                  All About Eve  1950 \n",
      "\n",
      "query_some:\n",
      "    Year                                           Film\n",
      "0  2019                                       Parasite\n",
      "1  2019                              Avengers: Endgame\n",
      "2  2018              Spider-Man: Into the Spider-verse\n",
      "3  2015                             Mad Max: Fury Road\n",
      "4  2010                                      Inception\n",
      "5  2008                                The Dark Knight\n",
      "6  2003          Lord of the Rings: Return of the King\n",
      "7  2002              Lord of the Rings: The Two Towers\n",
      "8  2001  Lord of the Rings: The Fellowship of the Ring \n",
      "\n"
     ]
    }
   ],
   "source": [
    "# Check the output DB file by querying:\n",
    "query_all = 'SELECT *' \\\n",
    "    f' FROM {TARGET_DB_TABLE_NAME};'\n",
    "\n",
    "query_some = 'SELECT Year, Film' \\\n",
    "    f' FROM {TARGET_DB_TABLE_NAME}' \\\n",
    "    ' WHERE Year BETWEEN 2000 AND 2025' \\\n",
    "    ' ORDER BY Year DESC;'\n",
    "\n",
    "with sqlite3.connect(TARGET_DB_NAME) as conn:\n",
    "    print('query_all:\\n', pd.read_sql(query_all, con = conn), '\\n')\n",
    "    print('query_some:\\n', pd.read_sql(query_some, con = conn), '\\n')\n"
   ]
  },
  {
   "cell_type": "markdown",
   "id": "ab7a4a50",
   "metadata": {},
   "source": [
    "# Acknowledgements\n",
    "## Course Instructors\n",
    "- Ramesh Sannareddy\n",
    "- Joseph Santarcangelo\n",
    "- Abhishek Gagneja\n",
    "## Course Offered By\n",
    "* [IBM Skills Network](https://www.coursera.org/partners/ibm-skills-network)"
   ]
  },
  {
   "cell_type": "markdown",
   "id": "8c3f6cdb",
   "metadata": {},
   "source": []
  }
 ],
 "metadata": {
  "kernelspec": {
   "display_name": "Python 3",
   "language": "python",
   "name": "python3"
  },
  "language_info": {
   "codemirror_mode": {
    "name": "ipython",
    "version": 3
   },
   "file_extension": ".py",
   "mimetype": "text/x-python",
   "name": "python",
   "nbconvert_exporter": "python",
   "pygments_lexer": "ipython3",
   "version": "3.13.0"
  }
 },
 "nbformat": 4,
 "nbformat_minor": 5
}
